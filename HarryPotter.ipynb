{
 "cells": [
  {
   "cell_type": "code",
   "execution_count": 3,
   "id": "748b1294",
   "metadata": {},
   "outputs": [
    {
     "name": "stdout",
     "output_type": "stream",
     "text": [
      "    book_id  goodreads_book_id  best_book_id  work_id  books_count  \\\n",
      "1         2                  3             3  4640799          491   \n",
      "6        18                  5             5  2402163          376   \n",
      "8        21                  2             2  2809203          307   \n",
      "9        23              15881         15881  6231171          398   \n",
      "10       24                  6             6  3046572          332   \n",
      "\n",
      "          isbn        isbn13                                  authors  \\\n",
      "1    439554934  9.780440e+12              J.K. Rowling, Mary GrandPré   \n",
      "6   043965548X  9.780440e+12  J.K. Rowling, Mary GrandPré, Rufus Beck   \n",
      "8    439358078  9.780439e+12              J.K. Rowling, Mary GrandPré   \n",
      "9    439064864  9.780439e+12              J.K. Rowling, Mary GrandPré   \n",
      "10   439139600  9.780439e+12              J.K. Rowling, Mary GrandPré   \n",
      "\n",
      "    original_publication_year                             original_title  ...  \\\n",
      "1                      1970.0   Harry Potter and the Philosopher's Stone  ...   \n",
      "6                      1970.0   Harry Potter and the Prisoner of Azkaban  ...   \n",
      "8                      1970.0  Harry Potter and the Order of the Phoenix  ...   \n",
      "9                      1970.0    Harry Potter and the Chamber of Secrets  ...   \n",
      "10                     1970.0        Harry Potter and the Goblet of Fire  ...   \n",
      "\n",
      "   language_code average_rating  ratings_count  work_ratings_count  \\\n",
      "1            eng           4.44        4602479             4800065   \n",
      "6            eng           4.53        1832823             1969375   \n",
      "8            eng           4.46        1735368             1840548   \n",
      "9            eng           4.37        1779331             1906199   \n",
      "10           eng           4.53        1753043             1868642   \n",
      "\n",
      "    work_text_reviews_count  ratings_1  ratings_2  ratings_3  ratings_4  \\\n",
      "1                     75867      75504     101676     455024    1156318   \n",
      "6                     36099       6716      20413     166129     509447   \n",
      "8                     28685       9528      31577     180210     494427   \n",
      "9                     34172       8253      42251     242345     548266   \n",
      "10                    31084       6676      20210     151785     494926   \n",
      "\n",
      "    ratings_5  \n",
      "1     3011543  \n",
      "6     1266670  \n",
      "8     1124806  \n",
      "9     1065084  \n",
      "10    1195045  \n",
      "\n",
      "[5 rows x 21 columns]\n",
      "most selling books within harry potter series(from least to most):\n",
      "                                                title  \\\n",
      "1   harry potter and the sorcerer's stone (harry p...   \n",
      "6   harry potter and the prisoner of azkaban (harr...   \n",
      "9   harry potter and the chamber of secrets (harry...   \n",
      "10  harry potter and the goblet of fire (harry pot...   \n",
      "11  harry potter and the deathly hallows (harry po...   \n",
      "\n",
      "                                    authors  ratings_count  \n",
      "1               J.K. Rowling, Mary GrandPré        4602479  \n",
      "6   J.K. Rowling, Mary GrandPré, Rufus Beck        1832823  \n",
      "9               J.K. Rowling, Mary GrandPré        1779331  \n",
      "10              J.K. Rowling, Mary GrandPré        1753043  \n",
      "11              J.K. Rowling, Mary GrandPré        1746574  \n",
      "Average rating of Harry Potter series: 4.482727272727273\n"
     ]
    }
   ],
   "source": [
    "import pandas as pd\n",
    "\n",
    "#data cleaning and preprocessing\n",
    "df = pd.read_csv('C:\\\\Users\\\\Dell\\\\Desktop\\\\College Material\\\\Cloud Computing\\\\books.csv')\n",
    "df.dropna()\n",
    "df.drop_duplicates()\n",
    "df.drop(['image_url', 'small_image_url'], axis=1, inplace=True)\n",
    "df['title'] = df['title'].str.lower().str.strip()\n",
    "df['original_publication_year'] = pd.to_datetime(df['original_publication_year']).dt.year\n",
    "\n",
    "#analyzing harry potter data\n",
    "harry_df = df[df['title'].str.contains('Harry Potter', case=False)]\n",
    "print(harry_df.head())\n",
    "most_selling = harry_df.sort_values(by='ratings_count', ascending=False).head(5)\n",
    "print(\"most selling books within harry potter series(from least to most):\")\n",
    "print(most_selling[['title', 'authors', 'ratings_count']])\n",
    "\n",
    "average_rating = harry_df['average_rating'].mean()\n",
    "print(\"Average rating of Harry Potter series:\", average_rating)\n"
   ]
  },
  {
   "cell_type": "code",
   "execution_count": null,
   "id": "11777652",
   "metadata": {},
   "outputs": [],
   "source": []
  }
 ],
 "metadata": {
  "kernelspec": {
   "display_name": "Python 3 (ipykernel)",
   "language": "python",
   "name": "python3"
  },
  "language_info": {
   "codemirror_mode": {
    "name": "ipython",
    "version": 3
   },
   "file_extension": ".py",
   "mimetype": "text/x-python",
   "name": "python",
   "nbconvert_exporter": "python",
   "pygments_lexer": "ipython3",
   "version": "3.11.5"
  }
 },
 "nbformat": 4,
 "nbformat_minor": 5
}
